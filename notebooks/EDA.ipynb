{
 "cells": [
  {
   "cell_type": "code",
   "execution_count": null,
   "id": "9520eef4",
   "metadata": {},
   "outputs": [],
   "source": [
    "import pandas as pd\n",
    "import plotyly.express as px\n",
    "import streamlit as st\n",
    "\n",
    "# Load the dataset\n",
    "car_data = pd.read_csv('https://raw.githubusercontent.com/plotly/datasets/master/mpg_ggplot2.csv')\n"
   ]
  }
 ],
 "metadata": {
  "language_info": {
   "name": "python"
  }
 },
 "nbformat": 4,
 "nbformat_minor": 5
}
